{
 "cells": [
  {
   "cell_type": "code",
   "execution_count": 1,
   "id": "cb1fce16",
   "metadata": {},
   "outputs": [
    {
     "name": "stdout",
     "output_type": "stream",
     "text": [
      "[o   o]\n",
      "|  o  |\n",
      "[o   o]\n"
     ]
    }
   ],
   "source": [
    "import random\n",
    "     \n",
    "#Generate random die\n",
    "die = random.randint(1,6)\n",
    "displayDie = \"\"\n",
    "     \n",
    "if die == 1:\n",
    "    displayDie += \"[     ]\"\n",
    "    displayDie += \"\\n|  o  |\"\n",
    "    displayDie += \"\\n[     ]\"\n",
    "if die == 2:\n",
    "    displayDie += \"[ o   ]\"\n",
    "    displayDie += \"\\n|     |\"\n",
    "    displayDie += \"\\n[   o ]\"\n",
    "if die == 3:\n",
    "    displayDie += \"[     ]\"\n",
    "    displayDie += \"\\n|o o o|\"\n",
    "    displayDie += \"\\n[     ]\"\n",
    "if die == 4:\n",
    "    displayDie += \"[o   o]\"\n",
    "    displayDie += \"\\n|     |\"\n",
    "    displayDie += \"\\n[o   o]\"\n",
    "if die == 5:\n",
    "    displayDie += \"[o   o]\"\n",
    "    displayDie += \"\\n|  o  |\"\n",
    "    displayDie += \"\\n[o   o]\"\n",
    "if die == 6:\n",
    "    displayDie += \"[o o o]\"\n",
    "    displayDie += \"\\n|     |\"\n",
    "    displayDie += \"\\n[o o o]\"\n",
    "\n",
    "print(displayDie)"
   ]
  },
  {
   "cell_type": "code",
   "execution_count": 2,
   "id": "d4394311",
   "metadata": {},
   "outputs": [
    {
     "name": "stdout",
     "output_type": "stream",
     "text": [
      "101\n"
     ]
    }
   ],
   "source": [
    "#convert decimal to binary\n",
    "numToGuess = bin(die).replace(\"0b\", \"\")\n",
    "print(numToGuess)"
   ]
  },
  {
   "cell_type": "code",
   "execution_count": 3,
   "id": "8383236b",
   "metadata": {},
   "outputs": [],
   "source": [
    "from qiskit import *\n",
    "%matplotlib inline\n",
    "from qiskit.tools.visualization import plot_histogram"
   ]
  },
  {
   "cell_type": "code",
   "execution_count": 4,
   "id": "80885c50",
   "metadata": {},
   "outputs": [],
   "source": [
    "dieNumLen = len(numToGuess)\n",
    "\n",
    "circuit = QuantumCircuit(dieNumLen + 1, dieNumLen)\n",
    "\n",
    "circuit.h(dieNumLen)\n",
    "circuit.z(dieNumLen)\n",
    "\n",
    "for i in range(dieNumLen):\n",
    "    circuit.h(i)\n",
    "                         \n",
    "circuit.barrier()\n",
    "s = numToGuess[::-1]\n",
    "for i in range(dieNumLen):\n",
    "    if s[i] == '0':\n",
    "        circuit.i(i)\n",
    "    else:\n",
    "        circuit.cx(i, dieNumLen)\n",
    "                         \n",
    "circuit.barrier()     \n",
    "\n",
    "for i in range(dieNumLen):\n",
    "    circuit.h(i)\n",
    "\n",
    "for i in range(dieNumLen):\n",
    "    circuit.measure(i, i)"
   ]
  },
  {
   "cell_type": "code",
   "execution_count": 5,
   "id": "d1c7a8f6",
   "metadata": {},
   "outputs": [
    {
     "name": "stdout",
     "output_type": "stream",
     "text": [
      "{'101': 1}\n"
     ]
    }
   ],
   "source": [
    "simulator = Aer.get_backend('qasm_simulator')\n",
    "result = execute(circuit, backend = simulator, shots = 1).result()\n",
    "resultCount = result.get_counts()\n",
    "\n",
    "print(resultCount)"
   ]
  },
  {
   "cell_type": "code",
   "execution_count": 6,
   "id": "097db352",
   "metadata": {},
   "outputs": [
    {
     "data": {
      "image/png": "[encoded data removed]",
      "text/plain": [
       "<Figure size 956.385x451.5 with 1 Axes>"
      ]
     },
     "execution_count": 6,
     "metadata": {},
     "output_type": "execute_result"
    }
   ],
   "source": [
    "circuit.draw(output = 'mpl')"
   ]
  },
  {
   "cell_type": "code",
   "execution_count": 7,
   "id": "3015e59e",
   "metadata": {},
   "outputs": [
    {
     "data": {
      "text/plain": [
       "[<IBMQSimulator('ibmq_qasm_simulator') from IBMQ(hub='ibm-q', group='open', project='main')>,\n",
       " <IBMQBackend('ibmq_lima') from IBMQ(hub='ibm-q', group='open', project='main')>,\n",
       " <IBMQBackend('ibmq_belem') from IBMQ(hub='ibm-q', group='open', project='main')>,\n",
       " <IBMQBackend('ibmq_quito') from IBMQ(hub='ibm-q', group='open', project='main')>,\n",
       " <IBMQSimulator('simulator_statevector') from IBMQ(hub='ibm-q', group='open', project='main')>,\n",
       " <IBMQSimulator('simulator_mps') from IBMQ(hub='ibm-q', group='open', project='main')>,\n",
       " <IBMQSimulator('simulator_extended_stabilizer') from IBMQ(hub='ibm-q', group='open', project='main')>,\n",
       " <IBMQSimulator('simulator_stabilizer') from IBMQ(hub='ibm-q', group='open', project='main')>,\n",
       " <IBMQBackend('ibmq_manila') from IBMQ(hub='ibm-q', group='open', project='main')>,\n",
       " <IBMQBackend('ibm_nairobi') from IBMQ(hub='ibm-q', group='open', project='main')>,\n",
       " <IBMQBackend('ibm_oslo') from IBMQ(hub='ibm-q', group='open', project='main')>]"
      ]
     },
     "execution_count": 7,
     "metadata": {},
     "output_type": "execute_result"
    }
   ],
   "source": [
    "IBMQ.load_account()\n",
    "provider = IBMQ.get_provider(hub='ibm-q', group='open', project='main')\n",
    "provider.backends()"
   ]
  },
  {
   "cell_type": "code",
   "execution_count": 8,
   "id": "c8fea6a2",
   "metadata": {},
   "outputs": [
    {
     "name": "stdout",
     "output_type": "stream",
     "text": [
      "Job Status: job has successfully run\n"
     ]
    }
   ],
   "source": [
    "qcomp = provider.get_backend('ibmq_quito')\n",
    "job = execute(circuit, backend=qcomp)\n",
    "from qiskit.tools.monitor import job_monitor\n",
    "job_monitor(job)"
   ]
  },
  {
   "cell_type": "code",
   "execution_count": 9,
   "id": "7b868dbf",
   "metadata": {},
   "outputs": [
    {
     "data": {
      "image/png": "[encoded data removed]",
      "text/plain": [
       "<Figure size 700x500 with 1 Axes>"
      ]
     },
     "execution_count": 9,
     "metadata": {},
     "output_type": "execute_result"
    }
   ],
   "source": [
    "result = job.result()\n",
    "plot_histogram(result.get_counts(circuit))"
   ]
  },
  {
   "cell_type": "code",
   "execution_count": 10,
   "id": "d9717dc2",
   "metadata": {},
   "outputs": [
    {
     "name": "stdout",
     "output_type": "stream",
     "text": [
      "Guess:  5\n",
      "Number of guesses:  2\n"
     ]
    }
   ],
   "source": [
    "def classical_comp_guess(low, high, die, guessNum):\n",
    "    guess = (low + high) // 2\n",
    "    guessNum += 1\n",
    "    if guess != die:\n",
    "        if guess > die:\n",
    "            high = guess\n",
    "        elif guess < die:\n",
    "            low = guess + 1\n",
    "        classical_comp_guess(low, high, die, guessNum)\n",
    "    else:\n",
    "        print(\"Guess: \", guess)\n",
    "        print(\"Number of guesses: \", guessNum)\n",
    "\n",
    "guessNum = 0;\n",
    "classical_comp_guess(1, 6, die, guessNum)"
   ]
  },
  {
   "cell_type": "code",
   "execution_count": 11,
   "id": "b65b8e52",
   "metadata": {},
   "outputs": [
    {
     "name": "stdout",
     "output_type": "stream",
     "text": [
      "[o   o]\n",
      "|  o  |\n",
      "[o   o]\n",
      "\n",
      "[ o   ]\n",
      "|     |\n",
      "[   o ]\n"
     ]
    }
   ],
   "source": [
    "die2 = random.randint(1,6)\n",
    "displayDie += \"\\n\"     \n",
    "if die2 == 1:\n",
    "    displayDie += \"\\n[     ]\"\n",
    "    displayDie += \"\\n|  o  |\"\n",
    "    displayDie += \"\\n[     ]\"\n",
    "if die2 == 2:\n",
    "    displayDie += \"\\n[ o   ]\"\n",
    "    displayDie += \"\\n|     |\"\n",
    "    displayDie += \"\\n[   o ]\"\n",
    "if die2 == 3:\n",
    "    displayDie += \"\\n[     ]\"\n",
    "    displayDie += \"\\n|o o o|\"\n",
    "    displayDie += \"\\n[     ]\"\n",
    "if die2 == 4:\n",
    "    displayDie += \"\\n[o   o]\"\n",
    "    displayDie += \"\\n|     |\"\n",
    "    displayDie += \"\\n[o   o]\"\n",
    "if die2 == 5:\n",
    "    displayDie += \"\\n[o   o]\"\n",
    "    displayDie += \"\\n|  o  |\"\n",
    "    displayDie += \"\\n[o   o]\"\n",
    "if die2 == 6:\n",
    "    displayDie += \"\\n[o o o]\"\n",
    "    displayDie += \"\\n|     |\"\n",
    "    displayDie += \"\\n[o o o]\"\n",
    "    \n",
    "print(displayDie)"
   ]
  },
  {
   "cell_type": "code",
   "execution_count": 12,
   "id": "9b8aa4bc",
   "metadata": {},
   "outputs": [
    {
     "name": "stdout",
     "output_type": "stream",
     "text": [
      "111\n"
     ]
    }
   ],
   "source": [
    "dice = die + die2\n",
    "numToGuess = bin(dice).replace(\"0b\", \"\")\n",
    "print(numToGuess)"
   ]
  },
  {
   "cell_type": "code",
   "execution_count": 13,
   "id": "46e72362",
   "metadata": {},
   "outputs": [],
   "source": [
    "dieNumLen = len(numToGuess)\n",
    "\n",
    "circuit = QuantumCircuit(dieNumLen + 1, dieNumLen)\n",
    "\n",
    "circuit.h(dieNumLen)\n",
    "circuit.z(dieNumLen)\n",
    "\n",
    "for i in range(dieNumLen):\n",
    "    circuit.h(i)\n",
    "                         \n",
    "circuit.barrier()\n",
    "s = numToGuess[::-1]\n",
    "for i in range(dieNumLen):\n",
    "    if s[i] == '0':\n",
    "        circuit.i(i)\n",
    "    else:\n",
    "        circuit.cx(i, dieNumLen)\n",
    "                         \n",
    "circuit.barrier()     \n",
    "\n",
    "for i in range(dieNumLen):\n",
    "    circuit.h(i)\n",
    "\n",
    "for i in range(dieNumLen):\n",
    "    circuit.measure(i, i)"
   ]
  },
  {
   "cell_type": "code",
   "execution_count": 14,
   "id": "f709627d",
   "metadata": {},
   "outputs": [
    {
     "name": "stdout",
     "output_type": "stream",
     "text": [
      "{'111': 1}\n"
     ]
    }
   ],
   "source": [
    "simulator = Aer.get_backend('qasm_simulator')\n",
    "result = execute(circuit, backend = simulator, shots = 1).result()\n",
    "resultCount = result.get_counts()\n",
    "\n",
    "print(resultCount)"
   ]
  },
  {
   "cell_type": "code",
   "execution_count": 15,
   "id": "eb3eaaf4",
   "metadata": {},
   "outputs": [
    {
     "name": "stdout",
     "output_type": "stream",
     "text": [
      "Job Status: job has successfully run\n"
     ]
    }
   ],
   "source": [
    "job = execute(circuit, backend=qcomp)\n",
    "job_monitor(job)"
   ]
  },
  {
   "cell_type": "code",
   "execution_count": 16,
   "id": "c80c183e",
   "metadata": {},
   "outputs": [
    {
     "data": {
      "image/png": "[encoded data removed]",
      "text/plain": [
       "<Figure size 700x500 with 1 Axes>"
      ]
     },
     "execution_count": 16,
     "metadata": {},
     "output_type": "execute_result"
    }
   ],
   "source": [
    "result = job.result()\n",
    "plot_histogram(result.get_counts(circuit))"
   ]
  },
  {
   "cell_type": "code",
   "execution_count": 17,
   "id": "194c8aa9",
   "metadata": {},
   "outputs": [
    {
     "name": "stdout",
     "output_type": "stream",
     "text": [
      "Guess:  7\n",
      "Number of guesses:  4\n"
     ]
    }
   ],
   "source": [
    "guessNum = 0;\n",
    "classical_comp_guess(1, 12, dice, guessNum)"
   ]
  },
  {
   "cell_type": "code",
   "execution_count": null,
   "id": "06795ff5",
   "metadata": {},
   "outputs": [],
   "source": []
  }
 ],
 "metadata": {
  "kernelspec": {
   "display_name": "Python 3 (ipykernel)",
   "language": "python",
   "name": "python3"
  },
  "language_info": {
   "codemirror_mode": {
    "name": "ipython",
    "version": 3
   },
   "file_extension": ".py",
   "mimetype": "text/x-python",
   "name": "python",
   "nbconvert_exporter": "python",
   "pygments_lexer": "ipython3",
   "version": "3.9.13"
  }
 },
 "nbformat": 4,
 "nbformat_minor": 5
}
